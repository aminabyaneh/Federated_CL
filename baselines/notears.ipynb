{
 "cells": [
  {
   "cell_type": "code",
   "execution_count": 1,
   "metadata": {},
   "outputs": [],
   "source": [
    "import numpy as np\n",
    "import matplotlib.pyplot as plt\n",
    "\n",
    "import sys\n",
    "sys.path.append(\"../federated\")\n",
    "\n",
    "from notears_libs.utils import set_random_seed, simulate_dag, simulate_parameter, simulate_linear_sem, count_accuracy\n",
    "from notears_libs.linear import notears_linear\n",
    "\n",
    "from utils import calculate_metrics\n",
    "\n",
    "set_random_seed(1)"
   ]
  },
  {
   "cell_type": "markdown",
   "metadata": {},
   "source": [
    "#### Dataset generation"
   ]
  },
  {
   "cell_type": "code",
   "execution_count": 2,
   "metadata": {},
   "outputs": [
    {
     "name": "stdout",
     "output_type": "stream",
     "text": [
      "Shape of dataset: (20, 10)\n",
      "Adjacency matrix: [[ 0.          0.          0.         -1.79005082  0.          0.\n",
      "   0.          0.          0.          0.        ]\n",
      " [ 0.          0.          0.          1.19322877  0.69840091  0.\n",
      "   0.          0.          0.64312887 -1.46909137]\n",
      " [ 0.          0.          0.         -0.67798726  1.36487632  0.\n",
      "   0.          0.          0.          1.28410494]\n",
      " [ 0.          0.          0.          0.          0.          1.63450309\n",
      "   0.          0.          0.          0.51200407]\n",
      " [ 0.          0.          0.          0.53615244  0.          0.\n",
      "   0.          0.         -0.88585275  1.03186584]\n",
      " [ 0.          0.          0.          0.          0.          0.\n",
      "   0.          0.          0.          0.        ]\n",
      " [ 0.         -1.56692325  0.          0.         -1.58252174  0.53582614\n",
      "   0.          0.          0.          0.        ]\n",
      " [ 0.         -1.56536     0.          1.92924669  0.          0.\n",
      "   0.          0.         -1.45714334  0.        ]\n",
      " [ 0.          0.          0.          0.          0.          0.\n",
      "   0.          0.          0.         -1.58803227]\n",
      " [ 0.          0.          0.          0.          0.          0.\n",
      "   0.          0.          0.          0.        ]]\n"
     ]
    }
   ],
   "source": [
    "n, d, s0, graph_type, sem_type = 20, 10, 20, 'ER', 'gauss'\n",
    "\n",
    "adj_mat_true = simulate_parameter(simulate_dag(d, s0, graph_type))\n",
    "\n",
    "dataset = simulate_linear_sem(adj_mat_true, n, sem_type)\n",
    "print(f'Shape of dataset: {dataset.shape}')\n",
    "print(f'Adjacency matrix: {adj_mat_true}')"
   ]
  },
  {
   "cell_type": "markdown",
   "metadata": {},
   "source": [
    "#### Without belief aggregation"
   ]
  },
  {
   "cell_type": "code",
   "execution_count": 3,
   "metadata": {},
   "outputs": [
    {
     "name": "stdout",
     "output_type": "stream",
     "text": [
      "No prior provided, starting from scratch...\n",
      "> 0 SHD = 20\n",
      "> 1 SHD = 13\n",
      "> 2 SHD = 16\n",
      "> 3 SHD = 11\n",
      "> 4 SHD = 9\n",
      "> 5 SHD = 9\n",
      "> 6 SHD = 9\n",
      "> 7 SHD = 9\n",
      "> 8 SHD = 9\n",
      "> 9 SHD = 9\n",
      "> 10 SHD = 9\n",
      "> 11 SHD = 9\n",
      "Done.\n"
     ]
    }
   ],
   "source": [
    "adj_mat_pred_nobelief = notears_linear(dataset, lambda1=0.1, loss_type='l2', ground_truth=adj_mat_true)"
   ]
  },
  {
   "cell_type": "markdown",
   "metadata": {},
   "source": [
    "#### With belief aggregation"
   ]
  },
  {
   "cell_type": "code",
   "execution_count": 4,
   "metadata": {},
   "outputs": [
    {
     "name": "stdout",
     "output_type": "stream",
     "text": [
      "Incorporating belief matrix...\n",
      "Belief matrix incorporated.\n",
      "> 0 SHD = 0\n",
      "> 1 SHD = 13\n",
      "> 2 SHD = 16\n",
      "> 3 SHD = 11\n",
      "> 4 SHD = 9\n",
      "> 5 SHD = 9\n",
      "> 6 SHD = 9\n",
      "> 7 SHD = 9\n",
      "> 8 SHD = 9\n",
      "> 9 SHD = 9\n",
      "> 10 SHD = 9\n",
      "> 11 SHD = 9\n",
      "Done.\n"
     ]
    }
   ],
   "source": [
    "adj_mat_pred_belief = notears_linear(dataset, W_prior=adj_mat_true, lambda1=0.1, loss_type='l2', ground_truth=adj_mat_true)"
   ]
  },
  {
   "cell_type": "markdown",
   "metadata": {},
   "source": [
    "#### Evaluation"
   ]
  },
  {
   "cell_type": "code",
   "execution_count": 5,
   "metadata": {},
   "outputs": [
    {
     "data": {
      "text/plain": [
       "{'TP': 15,\n",
       " 'TN': 66,\n",
       " 'FP': 4,\n",
       " 'FN': 5,\n",
       " 'SHD': 9,\n",
       " 'reverse': 0,\n",
       " 'recall': 0.75,\n",
       " 'precision': 0.7894736842105263}"
      ]
     },
     "execution_count": 5,
     "metadata": {},
     "output_type": "execute_result"
    }
   ],
   "source": [
    "calculate_metrics(adj_mat_pred_nobelief, adj_mat_true)"
   ]
  },
  {
   "cell_type": "code",
   "execution_count": 6,
   "metadata": {},
   "outputs": [
    {
     "data": {
      "text/plain": [
       "{'TP': 15,\n",
       " 'TN': 66,\n",
       " 'FP': 4,\n",
       " 'FN': 5,\n",
       " 'SHD': 9,\n",
       " 'reverse': 0,\n",
       " 'recall': 0.75,\n",
       " 'precision': 0.7894736842105263}"
      ]
     },
     "execution_count": 6,
     "metadata": {},
     "output_type": "execute_result"
    }
   ],
   "source": [
    "calculate_metrics(adj_mat_pred_belief, adj_mat_true)"
   ]
  },
  {
   "cell_type": "code",
   "execution_count": 7,
   "metadata": {},
   "outputs": [
    {
     "data": {
      "text/plain": [
       "<matplotlib.image.AxesImage at 0x14d9155151f0>"
      ]
     },
     "execution_count": 7,
     "metadata": {},
     "output_type": "execute_result"
    },
    {
     "data": {
      "image/png": "[encoded data removed]",
      "text/plain": [
       "<Figure size 288x288 with 1 Axes>"
      ]
     },
     "metadata": {
      "needs_background": "light"
     },
     "output_type": "display_data"
    },
    {
     "data": {
      "image/png": "[encoded data removed]",
      "text/plain": [
       "<Figure size 288x288 with 1 Axes>"
      ]
     },
     "metadata": {
      "needs_background": "light"
     },
     "output_type": "display_data"
    }
   ],
   "source": [
    "plt.matshow(adj_mat_pred_nobelief)\n",
    "plt.matshow(adj_mat_pred_belief)"
   ]
  }
 ],
 "metadata": {
  "kernelspec": {
   "display_name": "Python 3 (ipykernel)",
   "language": "python",
   "name": "python3"
  },
  "language_info": {
   "codemirror_mode": {
    "name": "ipython",
    "version": 3
   },
   "file_extension": ".py",
   "mimetype": "text/x-python",
   "name": "python",
   "nbconvert_exporter": "python",
   "pygments_lexer": "ipython3",
   "version": "3.8.10"
  }
 },
 "nbformat": 4,
 "nbformat_minor": 2
}
