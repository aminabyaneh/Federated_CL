{
 "cells": [
  {
   "cell_type": "code",
   "execution_count": 1,
   "metadata": {},
   "outputs": [
    {
     "ename": "ModuleNotFoundError",
     "evalue": "No module named 'notears_libs'",
     "output_type": "error",
     "traceback": [
      "\u001b[0;31m---------------------------------------------------------------------------\u001b[0m",
      "\u001b[0;31mModuleNotFoundError\u001b[0m                       Traceback (most recent call last)",
      "\u001b[0;32m/var/lib/condor/execute/dir_860379/ipykernel_862261/3181753216.py\u001b[0m in \u001b[0;36m<module>\u001b[0;34m\u001b[0m\n\u001b[1;32m      6\u001b[0m \u001b[0;34m\u001b[0m\u001b[0m\n\u001b[1;32m      7\u001b[0m \u001b[0;34m\u001b[0m\u001b[0m\n\u001b[0;32m----> 8\u001b[0;31m \u001b[0;32mfrom\u001b[0m \u001b[0mnotears_libs\u001b[0m\u001b[0;34m.\u001b[0m\u001b[0mutils\u001b[0m \u001b[0;32mimport\u001b[0m \u001b[0mset_random_seed\u001b[0m\u001b[0;34m,\u001b[0m \u001b[0msimulate_dag\u001b[0m\u001b[0;34m,\u001b[0m \u001b[0msimulate_parameter\u001b[0m\u001b[0;34m,\u001b[0m \u001b[0msimulate_linear_sem\u001b[0m\u001b[0;34m,\u001b[0m \u001b[0mcount_accuracy\u001b[0m\u001b[0;34m\u001b[0m\u001b[0;34m\u001b[0m\u001b[0m\n\u001b[0m\u001b[1;32m      9\u001b[0m \u001b[0;32mfrom\u001b[0m \u001b[0mnotears_libs\u001b[0m\u001b[0;34m.\u001b[0m\u001b[0mlinear\u001b[0m \u001b[0;32mimport\u001b[0m \u001b[0mnotears_linear\u001b[0m\u001b[0;34m,\u001b[0m \u001b[0mnotears_linear_fed\u001b[0m\u001b[0;34m\u001b[0m\u001b[0;34m\u001b[0m\u001b[0m\n\u001b[1;32m     10\u001b[0m \u001b[0;34m\u001b[0m\u001b[0m\n",
      "\u001b[0;31mModuleNotFoundError\u001b[0m: No module named 'notears_libs'"
     ]
    }
   ],
   "source": [
    "import numpy as np\n",
    "import matplotlib.pyplot as plt\n",
    "\n",
    "import sys\n",
    "sys.path.append(\"../federated\")\n",
    "\n",
    "\n",
    "from notears_libs.utils import set_random_seed, simulate_dag, simulate_parameter, simulate_linear_sem, count_accuracy\n",
    "from notears_libs.linear import notears_linear, notears_linear_fed\n",
    "\n",
    "from utils import calculate_metrics\n",
    "\n",
    "set_random_seed(1)"
   ]
  },
  {
   "cell_type": "markdown",
   "metadata": {},
   "source": [
    "## Notears"
   ]
  },
  {
   "cell_type": "markdown",
   "metadata": {},
   "source": [
    "#### Dataset generation"
   ]
  },
  {
   "cell_type": "code",
   "execution_count": 16,
   "metadata": {},
   "outputs": [
    {
     "name": "stdout",
     "output_type": "stream",
     "text": [
      "Shape of dataset: (5000, 20)\n",
      "Adjacency matrix: [[ 0.          0.          0.          0.          0.          0.\n",
      "   0.          0.          0.          0.         -1.03343447  0.\n",
      "   0.          0.50541388  0.         -0.67660725  0.          0.\n",
      "   0.          0.        ]\n",
      " [ 0.          0.          0.          0.          0.          0.\n",
      "   0.          0.          0.          0.          0.          0.\n",
      "   0.          0.          0.          0.          0.          0.\n",
      "   0.          0.        ]\n",
      " [ 0.          0.          0.          0.          0.          0.\n",
      "   0.          0.          0.          0.          0.          0.\n",
      "   0.          0.          0.          0.          0.          0.\n",
      "   0.          0.        ]\n",
      " [ 0.         -1.13215183  0.          0.          0.          0.\n",
      "   0.          0.         -1.64029786  0.          0.          0.\n",
      "   0.          0.          0.          0.          0.          0.\n",
      "   0.          0.        ]\n",
      " [ 0.          0.67867058  1.44043579  0.          0.          0.\n",
      "   0.          0.         -1.49381693  0.          0.          0.\n",
      "   0.          0.          0.          0.          0.          0.\n",
      "   0.          0.        ]\n",
      " [ 0.          0.          0.          0.          0.          0.\n",
      "   0.         -0.73832221  0.          0.          0.          0.\n",
      "   0.          0.          0.93102832  0.         -0.60177975  0.\n",
      "   0.          0.        ]\n",
      " [ 0.          0.          0.          0.          0.          0.\n",
      "   0.          0.          0.          0.          0.          0.\n",
      "   0.          0.          0.         -0.6624819   0.          0.\n",
      "   0.          1.27198376]\n",
      " [ 0.         -1.2610973   0.          0.          0.          0.\n",
      "   0.          0.          0.          0.          0.          0.\n",
      "   0.          0.          0.          0.          0.          0.\n",
      "   0.          0.        ]\n",
      " [ 0.          0.          0.          0.          0.          0.\n",
      "   0.          0.          0.          0.          0.          0.\n",
      "   0.          0.          0.          0.          0.          0.\n",
      "   0.         -1.46165889]\n",
      " [ 0.         -0.99210084  0.          0.          0.          0.\n",
      "   0.          0.          0.          0.          0.          0.\n",
      "   0.          0.          0.          0.          0.          0.\n",
      "   0.          0.        ]\n",
      " [ 0.          0.          0.          0.          0.          0.\n",
      "   0.          0.          0.          0.          0.          0.\n",
      "   0.          0.          0.          0.          0.          0.\n",
      "   0.         -1.94394487]\n",
      " [ 0.          0.          0.          0.          0.          0.\n",
      "   0.          0.          0.          0.          0.          0.\n",
      "   0.          0.          0.          0.          0.          0.\n",
      "   0.          0.        ]\n",
      " [ 0.          0.          0.          0.          0.          0.\n",
      "   0.          0.          0.          1.80845236  0.          0.\n",
      "   0.          0.          0.          0.          0.          0.\n",
      "   0.          0.        ]\n",
      " [ 0.          0.         -1.34827343  0.          0.          0.\n",
      "   0.         -0.57637501  0.67993211  0.          0.77347173 -1.15483325\n",
      "   0.          0.          0.          1.07220217  0.          0.\n",
      "   0.          0.        ]\n",
      " [ 0.          0.         -1.52422115  1.86485017  0.          0.\n",
      "   1.26102552  0.          0.          0.          0.          0.\n",
      "   0.          0.          0.          0.          0.          0.\n",
      "   0.          0.        ]\n",
      " [ 0.          0.          0.          0.          0.          0.\n",
      "   0.          0.50274035  0.          0.          0.          0.\n",
      "   0.          0.          0.          0.          0.          0.\n",
      "  -0.72433521  0.        ]\n",
      " [ 0.          0.          0.          0.          0.          0.\n",
      "  -0.62589405  0.          0.          0.          0.          0.\n",
      "   0.          0.          0.         -0.92572621  0.          0.\n",
      "   0.          0.        ]\n",
      " [ 0.          1.5585627   0.          0.          0.          0.\n",
      "   0.          0.          0.         -1.67033217  1.37466109  0.\n",
      "   0.         -1.5386075   0.          0.          0.          0.\n",
      "   0.91358499 -1.07631315]\n",
      " [ 0.          1.21254814 -0.52713511  0.          0.          0.\n",
      "   0.          0.          0.          0.          0.          0.82052407\n",
      "   0.          0.          0.          0.          0.          0.\n",
      "   0.          0.        ]\n",
      " [ 0.          0.          0.          0.          0.          0.\n",
      "   0.          0.          0.          0.          0.          0.\n",
      "   0.          0.          0.          0.          0.          0.\n",
      "   0.          0.        ]]\n"
     ]
    }
   ],
   "source": [
    "n, d, s0, graph_type, sem_type = 5000, 20, 40, 'ER', 'gauss'\n",
    "\n",
    "adj_mat_true = simulate_parameter(simulate_dag(d, s0, graph_type))\n",
    "\n",
    "dataset = simulate_linear_sem(adj_mat_true, n, sem_type)\n",
    "print(f'Shape of dataset: {dataset.shape}')\n",
    "print(f'Adjacency matrix: {adj_mat_true}')"
   ]
  },
  {
   "cell_type": "markdown",
   "metadata": {},
   "source": [
    "#### Without belief aggregation"
   ]
  },
  {
   "cell_type": "code",
   "execution_count": 17,
   "metadata": {},
   "outputs": [
    {
     "name": "stdout",
     "output_type": "stream",
     "text": [
      "> 0 SHD = 40\n",
      "> 1 SHD = 17\n",
      "> 2 SHD = 5\n",
      "> 3 SHD = 3\n",
      "> 4 SHD = 0\n",
      "> 5 SHD = 2\n",
      "> 6 SHD = 0\n",
      "> 7 SHD = 0\n",
      "> 8 SHD = 0\n",
      "> 9 SHD = 0\n",
      "> 10 SHD = 0\n",
      "> 11 SHD = 0\n"
     ]
    }
   ],
   "source": [
    "last_w_est = notears_linear(dataset, lambda1=0.01, loss_type='l2', ground_truth=adj_mat_true)"
   ]
  },
  {
   "cell_type": "markdown",
   "metadata": {},
   "source": [
    "#### With belief aggregation"
   ]
  },
  {
   "cell_type": "code",
   "execution_count": null,
   "metadata": {},
   "outputs": [
    {
     "name": "stdout",
     "output_type": "stream",
     "text": [
      "> 0 SHD = 40\n",
      "> 1 SHD = 17\n",
      "> 2 SHD = 6\n"
     ]
    }
   ],
   "source": [
    "prior = notears_linear_fed(dataset, W_prior=last_w_est, lambda1=0.01, loss_type='l2', ground_truth=adj_mat_true)"
   ]
  },
  {
   "cell_type": "code",
   "execution_count": null,
   "metadata": {},
   "outputs": [],
   "source": [
    "prior = notears_linear_fed(dataset, W_prior=np.ones(800), lambda1=0.1, loss_type='l2', ground_truth=adj_mat_true)"
   ]
  },
  {
   "cell_type": "code",
   "execution_count": null,
   "metadata": {},
   "outputs": [],
   "source": [
    "prior = notears_linear_fed(dataset, W_prior=np.zeros(800), lambda1=0.1, loss_type='l2', ground_truth=adj_mat_true)"
   ]
  },
  {
   "cell_type": "markdown",
   "metadata": {},
   "source": [
    "#### Evaluation"
   ]
  },
  {
   "cell_type": "code",
   "execution_count": null,
   "metadata": {},
   "outputs": [],
   "source": [
    "calculate_metrics(adj_mat_pred_nobelief, adj_mat_true)"
   ]
  },
  {
   "cell_type": "code",
   "execution_count": null,
   "metadata": {},
   "outputs": [],
   "source": [
    "calculate_metrics(adj_mat_pred_belief, adj_mat_true)"
   ]
  },
  {
   "cell_type": "code",
   "execution_count": null,
   "metadata": {},
   "outputs": [],
   "source": [
    "plt.matshow(adj_mat_pred_nobelief)\n",
    "plt.matshow(adj_mat_pred_belief)"
   ]
  },
  {
   "cell_type": "markdown",
   "metadata": {},
   "source": [
    "## IGSP\n"
   ]
  },
  {
   "cell_type": "code",
   "execution_count": 82,
   "metadata": {},
   "outputs": [],
   "source": [
    "import numpy as np\n",
    "import matplotlib.pyplot as plt\n",
    "\n",
    "import sys\n",
    "sys.path.append(\"../federated\")\n",
    "\n",
    "from utils import calculate_metrics\n",
    "from causal_learning import ENCOAlg\n",
    "\n",
    "import causaldag as cd\n",
    "np.random.seed(1221)\n",
    "\n",
    "from causaldag import igsp, unknown_target_igsp, partial_correlation_suffstat, partial_correlation_test\n",
    "from graphical_models.rand import directed_erdos, rand_weights\n",
    "from conditional_independence.ci_tests import MemoizedCI_Tester, hsic_test, kci_test, hsic, kci\n",
    "from conditional_independence import gauss_invariance_suffstat, gauss_invariance_test, MemoizedInvarianceTester\n",
    "from conditional_independence import hsic_invariance_test, kci_invariance_test"
   ]
  },
  {
   "cell_type": "code",
   "execution_count": 115,
   "metadata": {},
   "outputs": [
    {
     "name": "stdout",
     "output_type": "stream",
     "text": [
      "INFO - causal_learning.py - 382 - 2021-11-22 13:45:03,833 - Shape of global observational data: (300, 20)\n",
      "INFO - causal_learning.py - 385 - 2021-11-22 13:45:04,125 - Shape of global interventional data: (20, 1, 20)\n",
      "\n"
     ]
    }
   ],
   "source": [
    "causal_dag_dataset = ENCOAlg.build_global_dataset(obs_data_size=300, int_data_size=1 * 20, num_vars=20,\n",
    "                                                  graph_type=\"random\", seed=0, num_categs=10, edge_prob=0.6)"
   ]
  },
  {
   "cell_type": "code",
   "execution_count": 119,
   "metadata": {},
   "outputs": [],
   "source": [
    "def prepare_igsp(causal_dag_dataset, alpha=1e-3, alpha_inv=1e-3, ci_test=\"hsic\"):\n",
    "    \"\"\"\n",
    "        Convert ENCO dataset to IGSP output. \n",
    "    \"\"\"\n",
    "\n",
    "    obs_samples = causal_dag_dataset.data_obs\n",
    "    int_samples = causal_dag_dataset.data_int\n",
    "\n",
    "    iv_samples_list = list()\n",
    "    targets_list = list()\n",
    "\n",
    "    for var_idx in range(causal_dag_dataset.adj_matrix.shape[0]):\n",
    "        for int_sample in int_samples[var_idx]:\n",
    "            iv_samples_list.append(int_samples[var_idx])\n",
    "            targets_list.append(var_idx)\n",
    "    print(f'Shape of obs_samples {obs_samples.shape}')\n",
    "    print(f'Shape of iv_samples_list ({len(iv_samples_list)}, {iv_samples_list[0].shape})')\n",
    "    contexts = {i:s for i,s in enumerate(iv_samples_list)}\n",
    "    invariance_suffstat = {\"obs_samples\":obs_samples}\n",
    "    invariance_suffstat.update(contexts)\n",
    "\n",
    "    ci_tester = MemoizedCI_Tester(hsic_test, obs_samples, alpha=alpha)\n",
    "    invariance_tester = MemoizedInvarianceTester(hsic_invariance_test, invariance_suffstat, alpha=alpha_inv)\n",
    "    \n",
    "    setting_list = [dict(interventions=target) for target in targets_list]\n",
    "    nodes = set(range(causal_dag_dataset.adj_matrix.shape[0]))\n",
    "    return ci_tester, invariance_tester, nodes, setting_list "
   ]
  },
  {
   "cell_type": "code",
   "execution_count": 120,
   "metadata": {},
   "outputs": [
    {
     "name": "stdout",
     "output_type": "stream",
     "text": [
      "Shape of obs_samples (300, 20)\n",
      "Shape of iv_samples_list (20, (1, 20))\n"
     ]
    }
   ],
   "source": [
    "ci_tester, invariance_tester, nodes, setting_list = prepare_igsp(causal_dag_dataset)"
   ]
  },
  {
   "cell_type": "code",
   "execution_count": 121,
   "metadata": {},
   "outputs": [
    {
     "ename": "KeyError",
     "evalue": "'known_interventions'",
     "output_type": "error",
     "traceback": [
      "\u001b[0;31m---------------------------------------------------------------------------\u001b[0m",
      "\u001b[0;31mKeyError\u001b[0m                                  Traceback (most recent call last)",
      "\u001b[0;32m/var/lib/condor/execute/dir_1410424/ipykernel_1431018/560996436.py\u001b[0m in \u001b[0;36m<module>\u001b[0;34m\u001b[0m\n\u001b[0;32m----> 1\u001b[0;31m \u001b[0mest_dag\u001b[0m\u001b[0;34m,\u001b[0m \u001b[0mest_targets_list\u001b[0m \u001b[0;34m=\u001b[0m \u001b[0munknown_target_igsp\u001b[0m\u001b[0;34m(\u001b[0m\u001b[0msetting_list\u001b[0m\u001b[0;34m,\u001b[0m \u001b[0mnodes\u001b[0m\u001b[0;34m,\u001b[0m \u001b[0mci_tester\u001b[0m\u001b[0;34m,\u001b[0m \u001b[0minvariance_tester\u001b[0m\u001b[0;34m)\u001b[0m\u001b[0;34m\u001b[0m\u001b[0;34m\u001b[0m\u001b[0m\n\u001b[0m\u001b[1;32m      2\u001b[0m \u001b[0mdag\u001b[0m \u001b[0;34m=\u001b[0m \u001b[0mest_dag\u001b[0m\u001b[0;34m.\u001b[0m\u001b[0mto_amat\u001b[0m\u001b[0;34m(\u001b[0m\u001b[0;34m)\u001b[0m\u001b[0;34m[\u001b[0m\u001b[0;36m0\u001b[0m\u001b[0;34m]\u001b[0m\u001b[0;34m\u001b[0m\u001b[0;34m\u001b[0m\u001b[0m\n",
      "\u001b[0;32m~/anaconda3/envs/enco/lib/python3.8/site-packages/graphical_model_learning/algorithms/dag/gsp.py\u001b[0m in \u001b[0;36munknown_target_igsp\u001b[0;34m(setting_list, nodes, ci_tester, invariance_tester, depth, nruns, initial_undirected, initial_permutations, verbose, use_lowest, tup_score, no_targets)\u001b[0m\n\u001b[1;32m    903\u001b[0m \u001b[0;34m\u001b[0m\u001b[0m\n\u001b[1;32m    904\u001b[0m         \u001b[0mcurrent_covered_arcs\u001b[0m \u001b[0;34m=\u001b[0m \u001b[0mcurrent_dag\u001b[0m\u001b[0;34m.\u001b[0m\u001b[0mreversible_arcs\u001b[0m\u001b[0;34m(\u001b[0m\u001b[0;34m)\u001b[0m\u001b[0;34m\u001b[0m\u001b[0;34m\u001b[0m\u001b[0m\n\u001b[0;32m--> 905\u001b[0;31m         \u001b[0mcurrent_i_covered_arcs\u001b[0m \u001b[0;34m=\u001b[0m \u001b[0;34m[\u001b[0m\u001b[0;34m(\u001b[0m\u001b[0mi\u001b[0m\u001b[0;34m,\u001b[0m \u001b[0mj\u001b[0m\u001b[0;34m)\u001b[0m \u001b[0;32mfor\u001b[0m \u001b[0mi\u001b[0m\u001b[0;34m,\u001b[0m \u001b[0mj\u001b[0m \u001b[0;32min\u001b[0m \u001b[0mcurrent_covered_arcs\u001b[0m \u001b[0;32mif\u001b[0m \u001b[0m_is_icovered\u001b[0m\u001b[0;34m(\u001b[0m\u001b[0mi\u001b[0m\u001b[0;34m,\u001b[0m \u001b[0mj\u001b[0m\u001b[0;34m,\u001b[0m \u001b[0mcurrent_dag\u001b[0m\u001b[0;34m)\u001b[0m\u001b[0;34m]\u001b[0m\u001b[0;34m\u001b[0m\u001b[0;34m\u001b[0m\u001b[0m\n\u001b[0m\u001b[1;32m    906\u001b[0m         \u001b[0;32mif\u001b[0m \u001b[0mverbose\u001b[0m\u001b[0;34m:\u001b[0m \u001b[0mprint\u001b[0m\u001b[0;34m(\u001b[0m\u001b[0;34m\"=== STARTING I-COVERED ARCS:\"\u001b[0m\u001b[0;34m,\u001b[0m \u001b[0mcurrent_i_covered_arcs\u001b[0m\u001b[0;34m)\u001b[0m\u001b[0;34m\u001b[0m\u001b[0;34m\u001b[0m\u001b[0m\n\u001b[1;32m    907\u001b[0m         \u001b[0mnext_dags\u001b[0m \u001b[0;34m=\u001b[0m \u001b[0;34m[\u001b[0m\u001b[0m_reverse_arc_igsp\u001b[0m\u001b[0;34m(\u001b[0m\u001b[0mcurrent_dag\u001b[0m\u001b[0;34m,\u001b[0m \u001b[0mcurrent_i_covered_arcs\u001b[0m\u001b[0;34m,\u001b[0m \u001b[0mi\u001b[0m\u001b[0;34m,\u001b[0m \u001b[0mj\u001b[0m\u001b[0;34m)\u001b[0m \u001b[0;32mfor\u001b[0m \u001b[0mi\u001b[0m\u001b[0;34m,\u001b[0m \u001b[0mj\u001b[0m \u001b[0;32min\u001b[0m \u001b[0mcurrent_i_covered_arcs\u001b[0m\u001b[0;34m]\u001b[0m\u001b[0;34m\u001b[0m\u001b[0;34m\u001b[0m\u001b[0m\n",
      "\u001b[0;32m~/anaconda3/envs/enco/lib/python3.8/site-packages/graphical_model_learning/algorithms/dag/gsp.py\u001b[0m in \u001b[0;36m<listcomp>\u001b[0;34m(.0)\u001b[0m\n\u001b[1;32m    903\u001b[0m \u001b[0;34m\u001b[0m\u001b[0m\n\u001b[1;32m    904\u001b[0m         \u001b[0mcurrent_covered_arcs\u001b[0m \u001b[0;34m=\u001b[0m \u001b[0mcurrent_dag\u001b[0m\u001b[0;34m.\u001b[0m\u001b[0mreversible_arcs\u001b[0m\u001b[0;34m(\u001b[0m\u001b[0;34m)\u001b[0m\u001b[0;34m\u001b[0m\u001b[0;34m\u001b[0m\u001b[0m\n\u001b[0;32m--> 905\u001b[0;31m         \u001b[0mcurrent_i_covered_arcs\u001b[0m \u001b[0;34m=\u001b[0m \u001b[0;34m[\u001b[0m\u001b[0;34m(\u001b[0m\u001b[0mi\u001b[0m\u001b[0;34m,\u001b[0m \u001b[0mj\u001b[0m\u001b[0;34m)\u001b[0m \u001b[0;32mfor\u001b[0m \u001b[0mi\u001b[0m\u001b[0;34m,\u001b[0m \u001b[0mj\u001b[0m \u001b[0;32min\u001b[0m \u001b[0mcurrent_covered_arcs\u001b[0m \u001b[0;32mif\u001b[0m \u001b[0m_is_icovered\u001b[0m\u001b[0;34m(\u001b[0m\u001b[0mi\u001b[0m\u001b[0;34m,\u001b[0m \u001b[0mj\u001b[0m\u001b[0;34m,\u001b[0m \u001b[0mcurrent_dag\u001b[0m\u001b[0;34m)\u001b[0m\u001b[0;34m]\u001b[0m\u001b[0;34m\u001b[0m\u001b[0;34m\u001b[0m\u001b[0m\n\u001b[0m\u001b[1;32m    906\u001b[0m         \u001b[0;32mif\u001b[0m \u001b[0mverbose\u001b[0m\u001b[0;34m:\u001b[0m \u001b[0mprint\u001b[0m\u001b[0;34m(\u001b[0m\u001b[0;34m\"=== STARTING I-COVERED ARCS:\"\u001b[0m\u001b[0;34m,\u001b[0m \u001b[0mcurrent_i_covered_arcs\u001b[0m\u001b[0;34m)\u001b[0m\u001b[0;34m\u001b[0m\u001b[0;34m\u001b[0m\u001b[0m\n\u001b[1;32m    907\u001b[0m         \u001b[0mnext_dags\u001b[0m \u001b[0;34m=\u001b[0m \u001b[0;34m[\u001b[0m\u001b[0m_reverse_arc_igsp\u001b[0m\u001b[0;34m(\u001b[0m\u001b[0mcurrent_dag\u001b[0m\u001b[0;34m,\u001b[0m \u001b[0mcurrent_i_covered_arcs\u001b[0m\u001b[0;34m,\u001b[0m \u001b[0mi\u001b[0m\u001b[0;34m,\u001b[0m \u001b[0mj\u001b[0m\u001b[0;34m)\u001b[0m \u001b[0;32mfor\u001b[0m \u001b[0mi\u001b[0m\u001b[0;34m,\u001b[0m \u001b[0mj\u001b[0m \u001b[0;32min\u001b[0m \u001b[0mcurrent_i_covered_arcs\u001b[0m\u001b[0;34m]\u001b[0m\u001b[0;34m\u001b[0m\u001b[0;34m\u001b[0m\u001b[0m\n",
      "\u001b[0;32m~/anaconda3/envs/enco/lib/python3.8/site-packages/graphical_model_learning/algorithms/dag/gsp.py\u001b[0m in \u001b[0;36m_is_icovered\u001b[0;34m(i, j, dag)\u001b[0m\n\u001b[1;32m    823\u001b[0m         \u001b[0mparents_j\u001b[0m \u001b[0;34m=\u001b[0m \u001b[0mfrozenset\u001b[0m\u001b[0;34m(\u001b[0m\u001b[0mdag\u001b[0m\u001b[0;34m.\u001b[0m\u001b[0mparents_of\u001b[0m\u001b[0;34m(\u001b[0m\u001b[0mj\u001b[0m\u001b[0;34m)\u001b[0m\u001b[0;34m)\u001b[0m\u001b[0;34m\u001b[0m\u001b[0;34m\u001b[0m\u001b[0m\n\u001b[1;32m    824\u001b[0m         \u001b[0;32mfor\u001b[0m \u001b[0msetting_num\u001b[0m\u001b[0;34m,\u001b[0m \u001b[0msetting\u001b[0m \u001b[0;32min\u001b[0m \u001b[0menumerate\u001b[0m\u001b[0;34m(\u001b[0m\u001b[0msetting_list\u001b[0m\u001b[0;34m)\u001b[0m\u001b[0;34m:\u001b[0m\u001b[0;34m\u001b[0m\u001b[0;34m\u001b[0m\u001b[0m\n\u001b[0;32m--> 825\u001b[0;31m             \u001b[0;32mif\u001b[0m \u001b[0mi\u001b[0m \u001b[0;32min\u001b[0m \u001b[0msetting\u001b[0m\u001b[0;34m[\u001b[0m\u001b[0;34m'known_interventions'\u001b[0m\u001b[0;34m]\u001b[0m\u001b[0;34m:\u001b[0m\u001b[0;34m\u001b[0m\u001b[0;34m\u001b[0m\u001b[0m\n\u001b[0m\u001b[1;32m    826\u001b[0m                 \u001b[0;32mif\u001b[0m \u001b[0minvariance_tester\u001b[0m\u001b[0;34m.\u001b[0m\u001b[0mis_invariant\u001b[0m\u001b[0;34m(\u001b[0m\u001b[0mj\u001b[0m\u001b[0;34m,\u001b[0m \u001b[0mcontext\u001b[0m\u001b[0;34m=\u001b[0m\u001b[0msetting_num\u001b[0m\u001b[0;34m,\u001b[0m \u001b[0mcond_set\u001b[0m\u001b[0;34m=\u001b[0m\u001b[0mparents_j\u001b[0m\u001b[0;34m)\u001b[0m\u001b[0;34m:\u001b[0m\u001b[0;34m\u001b[0m\u001b[0;34m\u001b[0m\u001b[0m\n\u001b[1;32m    827\u001b[0m                     \u001b[0;32mreturn\u001b[0m \u001b[0;32mFalse\u001b[0m\u001b[0;34m\u001b[0m\u001b[0;34m\u001b[0m\u001b[0m\n",
      "\u001b[0;31mKeyError\u001b[0m: 'known_interventions'"
     ]
    }
   ],
   "source": [
    "est_dag, est_targets_list = unknown_target_igsp(setting_list, nodes, ci_tester, invariance_tester)\n",
    "dag = est_dag.to_amat()[0]"
   ]
  },
  {
   "cell_type": "code",
   "execution_count": null,
   "metadata": {},
   "outputs": [],
   "source": [
    "dag"
   ]
  }
 ],
 "metadata": {
  "kernelspec": {
   "display_name": "Python 3 (ipykernel)",
   "language": "python",
   "name": "python3"
  },
  "language_info": {
   "codemirror_mode": {
    "name": "ipython",
    "version": 3
   },
   "file_extension": ".py",
   "mimetype": "text/x-python",
   "name": "python",
   "nbconvert_exporter": "python",
   "pygments_lexer": "ipython3",
   "version": "3.8.10"
  }
 },
 "nbformat": 4,
 "nbformat_minor": 2
}
