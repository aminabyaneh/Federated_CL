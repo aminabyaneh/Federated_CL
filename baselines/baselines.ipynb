{
 "cells": [
  {
   "cell_type": "code",
   "execution_count": 1,
   "metadata": {},
   "outputs": [],
   "source": [
    "import numpy as np\n",
    "import matplotlib.pyplot as plt\n",
    "\n",
    "import sys\n",
    "sys.path.append(\"../federated\")\n",
    "\n",
    "\n",
    "from notears.utils import set_random_seed, simulate_dag, simulate_parameter, simulate_linear_sem\n",
    "from notears.linear import notears_linear, notears_linear_fed\n",
    "\n",
    "from utils import calculate_metrics\n",
    "\n",
    "set_random_seed(1)"
   ]
  },
  {
   "cell_type": "markdown",
   "metadata": {},
   "source": [
    "## Notears"
   ]
  },
  {
   "cell_type": "markdown",
   "metadata": {},
   "source": [
    "#### Dataset generation"
   ]
  },
  {
   "cell_type": "code",
   "execution_count": 16,
   "metadata": {},
   "outputs": [
    {
     "name": "stdout",
     "output_type": "stream",
     "text": [
      "Shape of dataset: (5000, 20)\n",
      "Adjacency matrix: [[ 0.          0.          0.          0.          0.          0.\n",
      "   0.          0.          0.          0.         -1.03343447  0.\n",
      "   0.          0.50541388  0.         -0.67660725  0.          0.\n",
      "   0.          0.        ]\n",
      " [ 0.          0.          0.          0.          0.          0.\n",
      "   0.          0.          0.          0.          0.          0.\n",
      "   0.          0.          0.          0.          0.          0.\n",
      "   0.          0.        ]\n",
      " [ 0.          0.          0.          0.          0.          0.\n",
      "   0.          0.          0.          0.          0.          0.\n",
      "   0.          0.          0.          0.          0.          0.\n",
      "   0.          0.        ]\n",
      " [ 0.         -1.13215183  0.          0.          0.          0.\n",
      "   0.          0.         -1.64029786  0.          0.          0.\n",
      "   0.          0.          0.          0.          0.          0.\n",
      "   0.          0.        ]\n",
      " [ 0.          0.67867058  1.44043579  0.          0.          0.\n",
      "   0.          0.         -1.49381693  0.          0.          0.\n",
      "   0.          0.          0.          0.          0.          0.\n",
      "   0.          0.        ]\n",
      " [ 0.          0.          0.          0.          0.          0.\n",
      "   0.         -0.73832221  0.          0.          0.          0.\n",
      "   0.          0.          0.93102832  0.         -0.60177975  0.\n",
      "   0.          0.        ]\n",
      " [ 0.          0.          0.          0.          0.          0.\n",
      "   0.          0.          0.          0.          0.          0.\n",
      "   0.          0.          0.         -0.6624819   0.          0.\n",
      "   0.          1.27198376]\n",
      " [ 0.         -1.2610973   0.          0.          0.          0.\n",
      "   0.          0.          0.          0.          0.          0.\n",
      "   0.          0.          0.          0.          0.          0.\n",
      "   0.          0.        ]\n",
      " [ 0.          0.          0.          0.          0.          0.\n",
      "   0.          0.          0.          0.          0.          0.\n",
      "   0.          0.          0.          0.          0.          0.\n",
      "   0.         -1.46165889]\n",
      " [ 0.         -0.99210084  0.          0.          0.          0.\n",
      "   0.          0.          0.          0.          0.          0.\n",
      "   0.          0.          0.          0.          0.          0.\n",
      "   0.          0.        ]\n",
      " [ 0.          0.          0.          0.          0.          0.\n",
      "   0.          0.          0.          0.          0.          0.\n",
      "   0.          0.          0.          0.          0.          0.\n",
      "   0.         -1.94394487]\n",
      " [ 0.          0.          0.          0.          0.          0.\n",
      "   0.          0.          0.          0.          0.          0.\n",
      "   0.          0.          0.          0.          0.          0.\n",
      "   0.          0.        ]\n",
      " [ 0.          0.          0.          0.          0.          0.\n",
      "   0.          0.          0.          1.80845236  0.          0.\n",
      "   0.          0.          0.          0.          0.          0.\n",
      "   0.          0.        ]\n",
      " [ 0.          0.         -1.34827343  0.          0.          0.\n",
      "   0.         -0.57637501  0.67993211  0.          0.77347173 -1.15483325\n",
      "   0.          0.          0.          1.07220217  0.          0.\n",
      "   0.          0.        ]\n",
      " [ 0.          0.         -1.52422115  1.86485017  0.          0.\n",
      "   1.26102552  0.          0.          0.          0.          0.\n",
      "   0.          0.          0.          0.          0.          0.\n",
      "   0.          0.        ]\n",
      " [ 0.          0.          0.          0.          0.          0.\n",
      "   0.          0.50274035  0.          0.          0.          0.\n",
      "   0.          0.          0.          0.          0.          0.\n",
      "  -0.72433521  0.        ]\n",
      " [ 0.          0.          0.          0.          0.          0.\n",
      "  -0.62589405  0.          0.          0.          0.          0.\n",
      "   0.          0.          0.         -0.92572621  0.          0.\n",
      "   0.          0.        ]\n",
      " [ 0.          1.5585627   0.          0.          0.          0.\n",
      "   0.          0.          0.         -1.67033217  1.37466109  0.\n",
      "   0.         -1.5386075   0.          0.          0.          0.\n",
      "   0.91358499 -1.07631315]\n",
      " [ 0.          1.21254814 -0.52713511  0.          0.          0.\n",
      "   0.          0.          0.          0.          0.          0.82052407\n",
      "   0.          0.          0.          0.          0.          0.\n",
      "   0.          0.        ]\n",
      " [ 0.          0.          0.          0.          0.          0.\n",
      "   0.          0.          0.          0.          0.          0.\n",
      "   0.          0.          0.          0.          0.          0.\n",
      "   0.          0.        ]]\n"
     ]
    }
   ],
   "source": [
    "n, d, s0, graph_type, sem_type = 5000, 20, 40, 'ER', 'gauss'\n",
    "\n",
    "adj_mat_true = simulate_parameter(simulate_dag(d, s0, graph_type))\n",
    "\n",
    "dataset = simulate_linear_sem(adj_mat_true, n, sem_type)\n",
    "print(f'Shape of dataset: {dataset.shape}')\n",
    "print(f'Adjacency matrix: {adj_mat_true}')"
   ]
  },
  {
   "cell_type": "markdown",
   "metadata": {},
   "source": [
    "#### Without belief aggregation"
   ]
  },
  {
   "cell_type": "code",
   "execution_count": 17,
   "metadata": {},
   "outputs": [
    {
     "name": "stdout",
     "output_type": "stream",
     "text": [
      "> 0 SHD = 40\n",
      "> 1 SHD = 17\n",
      "> 2 SHD = 5\n",
      "> 3 SHD = 3\n",
      "> 4 SHD = 0\n",
      "> 5 SHD = 2\n",
      "> 6 SHD = 0\n",
      "> 7 SHD = 0\n",
      "> 8 SHD = 0\n",
      "> 9 SHD = 0\n",
      "> 10 SHD = 0\n",
      "> 11 SHD = 0\n"
     ]
    }
   ],
   "source": [
    "last_w_est = notears_linear(dataset, lambda1=0.01, loss_type='l2', ground_truth=adj_mat_true)"
   ]
  },
  {
   "cell_type": "markdown",
   "metadata": {},
   "source": [
    "#### With belief aggregation"
   ]
  },
  {
   "cell_type": "code",
   "execution_count": null,
   "metadata": {},
   "outputs": [
    {
     "name": "stdout",
     "output_type": "stream",
     "text": [
      "> 0 SHD = 40\n",
      "> 1 SHD = 17\n",
      "> 2 SHD = 6\n"
     ]
    }
   ],
   "source": [
    "prior = notears_linear_fed(dataset, W_prior=last_w_est, lambda1=0.01, loss_type='l2', ground_truth=adj_mat_true)"
   ]
  },
  {
   "cell_type": "code",
   "execution_count": null,
   "metadata": {},
   "outputs": [],
   "source": [
    "prior = notears_linear_fed(dataset, W_prior=np.ones(800), lambda1=0.1, loss_type='l2', ground_truth=adj_mat_true)"
   ]
  },
  {
   "cell_type": "code",
   "execution_count": null,
   "metadata": {},
   "outputs": [],
   "source": [
    "prior = notears_linear_fed(dataset, W_prior=np.zeros(800), lambda1=0.1, loss_type='l2', ground_truth=adj_mat_true)"
   ]
  },
  {
   "cell_type": "markdown",
   "metadata": {},
   "source": [
    "## IGSP and GIES\n"
   ]
  },
  {
   "cell_type": "code",
   "execution_count": 3,
   "metadata": {},
   "outputs": [],
   "source": [
    "import os\n",
    "import sys\n",
    "sys.path.append(\"../federated\")\n",
    "\n",
    "import numpy as np\n",
    "import matplotlib.pyplot as plt\n",
    "\n",
    "from logging_settings import logger"
   ]
  },
  {
   "cell_type": "markdown",
   "metadata": {},
   "source": [
    "### Set experiments configurations"
   ]
  },
  {
   "cell_type": "code",
   "execution_count": 2,
   "metadata": {},
   "outputs": [],
   "source": [
    "# Graph\n",
    "graph_types = [\"full\", \"bidiag\", \"chain\", \"bidiag\", \"jungle\"]\n",
    "edge_probs = [0.1, 0.2, 0.4, 0.6, 0.8, 1.0]\n",
    "num_vars = 20\n",
    "\n",
    "# Dataset\n",
    "obs_data_size = 5000\n",
    "int_data_size = num_vars * 2\n",
    "\n",
    "# Method\n",
    "gies_method = \"gies_experiment.py\"\n",
    "igsp_method = \"igsp_experiment.py\"\n",
    "methods = [gies_method, igsp_method]\n",
    "\n",
    "# Federated\n",
    "num_clients = 2\n",
    "num_rounds = 1\n",
    "num_seeds = 5"
   ]
  },
  {
   "cell_type": "markdown",
   "metadata": {},
   "source": [
    "### Sample Run\n"
   ]
  },
  {
   "cell_type": "code",
   "execution_count": 5,
   "metadata": {},
   "outputs": [
    {
     "name": "stdout",
     "output_type": "stream",
     "text": [
      "INFO - <ipython-input-5-d4e6afb87e13> - 4 - 2021-11-29 13:11:52,859 - Executing command: python gies_experiment.py --obs-samples-size 5000 --int-samples-size 40--num-vars 20 --graph-type random --edge-prob 0.0 --seed 0--num-clients 2 --num-rounds 1\n"
     ]
    },
    {
     "data": {
      "text/plain": [
       "512"
      ]
     },
     "execution_count": 5,
     "metadata": {},
     "output_type": "execute_result"
    }
   ],
   "source": [
    "command = f'python {gies_method} --obs-samples-size {obs_data_size} --int-samples-size {int_data_size}' \\\n",
    "            f'--num-vars {num_vars} --graph-type {\"random\"} --edge-prob {0.0} --seed {0}' \\\n",
    "            f'--num-clients {num_clients} --num-rounds {num_rounds}'\n",
    "logger.info(f'Executing command: {command}')\n",
    "\n",
    "os.system(command)"
   ]
  },
  {
   "cell_type": "markdown",
   "metadata": {},
   "source": [
    "### Structured graphs"
   ]
  },
  {
   "cell_type": "code",
   "execution_count": 3,
   "metadata": {},
   "outputs": [
    {
     "name": "stdout",
     "output_type": "stream",
     "text": [
      "INFO - <ipython-input-3-b2fad49b0164> - 9 - 2021-11-29 13:03:45,755 - Executing command: python gies_experiment.py --obs-samples-size 5000 --int-samples-size 40--num-vars 20 --graph-type full --edge-prob 0.0 --seed 0--num-clients 2 --num-rounds 1\n",
      "INFO - <ipython-input-3-b2fad49b0164> - 9 - 2021-11-29 13:03:53,164 - Executing command: python gies_experiment.py --obs-samples-size 5000 --int-samples-size 40--num-vars 20 --graph-type full --edge-prob 0.0 --seed 1--num-clients 2 --num-rounds 1\n",
      "INFO - <ipython-input-3-b2fad49b0164> - 9 - 2021-11-29 13:03:54,921 - Executing command: python gies_experiment.py --obs-samples-size 5000 --int-samples-size 40--num-vars 20 --graph-type full --edge-prob 0.0 --seed 2--num-clients 2 --num-rounds 1\n",
      "INFO - <ipython-input-3-b2fad49b0164> - 9 - 2021-11-29 13:03:56,856 - Executing command: python gies_experiment.py --obs-samples-size 5000 --int-samples-size 40--num-vars 20 --graph-type full --edge-prob 0.0 --seed 3--num-clients 2 --num-rounds 1\n",
      "INFO - <ipython-input-3-b2fad49b0164> - 9 - 2021-11-29 13:03:58,721 - Executing command: python gies_experiment.py --obs-samples-size 5000 --int-samples-size 40--num-vars 20 --graph-type full --edge-prob 0.0 --seed 4--num-clients 2 --num-rounds 1\n",
      "INFO - <ipython-input-3-b2fad49b0164> - 9 - 2021-11-29 13:04:00,867 - Executing command: python gies_experiment.py --obs-samples-size 5000 --int-samples-size 40--num-vars 20 --graph-type bidiag --edge-prob 0.0 --seed 0--num-clients 2 --num-rounds 1\n",
      "INFO - <ipython-input-3-b2fad49b0164> - 9 - 2021-11-29 13:04:02,704 - Executing command: python gies_experiment.py --obs-samples-size 5000 --int-samples-size 40--num-vars 20 --graph-type bidiag --edge-prob 0.0 --seed 1--num-clients 2 --num-rounds 1\n",
      "INFO - <ipython-input-3-b2fad49b0164> - 9 - 2021-11-29 13:04:04,641 - Executing command: python gies_experiment.py --obs-samples-size 5000 --int-samples-size 40--num-vars 20 --graph-type bidiag --edge-prob 0.0 --seed 2--num-clients 2 --num-rounds 1\n",
      "INFO - <ipython-input-3-b2fad49b0164> - 9 - 2021-11-29 13:04:06,771 - Executing command: python gies_experiment.py --obs-samples-size 5000 --int-samples-size 40--num-vars 20 --graph-type bidiag --edge-prob 0.0 --seed 3--num-clients 2 --num-rounds 1\n",
      "INFO - <ipython-input-3-b2fad49b0164> - 9 - 2021-11-29 13:04:08,452 - Executing command: python gies_experiment.py --obs-samples-size 5000 --int-samples-size 40--num-vars 20 --graph-type bidiag --edge-prob 0.0 --seed 4--num-clients 2 --num-rounds 1\n",
      "INFO - <ipython-input-3-b2fad49b0164> - 9 - 2021-11-29 13:04:10,341 - Executing command: python gies_experiment.py --obs-samples-size 5000 --int-samples-size 40--num-vars 20 --graph-type chain --edge-prob 0.0 --seed 0--num-clients 2 --num-rounds 1\n",
      "INFO - <ipython-input-3-b2fad49b0164> - 9 - 2021-11-29 13:04:12,179 - Executing command: python gies_experiment.py --obs-samples-size 5000 --int-samples-size 40--num-vars 20 --graph-type chain --edge-prob 0.0 --seed 1--num-clients 2 --num-rounds 1\n",
      "INFO - <ipython-input-3-b2fad49b0164> - 9 - 2021-11-29 13:04:14,038 - Executing command: python gies_experiment.py --obs-samples-size 5000 --int-samples-size 40--num-vars 20 --graph-type chain --edge-prob 0.0 --seed 2--num-clients 2 --num-rounds 1\n",
      "INFO - <ipython-input-3-b2fad49b0164> - 9 - 2021-11-29 13:04:16,363 - Executing command: python gies_experiment.py --obs-samples-size 5000 --int-samples-size 40--num-vars 20 --graph-type chain --edge-prob 0.0 --seed 3--num-clients 2 --num-rounds 1\n",
      "INFO - <ipython-input-3-b2fad49b0164> - 9 - 2021-11-29 13:04:18,428 - Executing command: python gies_experiment.py --obs-samples-size 5000 --int-samples-size 40--num-vars 20 --graph-type chain --edge-prob 0.0 --seed 4--num-clients 2 --num-rounds 1\n",
      "INFO - <ipython-input-3-b2fad49b0164> - 9 - 2021-11-29 13:04:20,468 - Executing command: python gies_experiment.py --obs-samples-size 5000 --int-samples-size 40--num-vars 20 --graph-type bidiag --edge-prob 0.0 --seed 0--num-clients 2 --num-rounds 1\n",
      "INFO - <ipython-input-3-b2fad49b0164> - 9 - 2021-11-29 13:04:22,497 - Executing command: python gies_experiment.py --obs-samples-size 5000 --int-samples-size 40--num-vars 20 --graph-type bidiag --edge-prob 0.0 --seed 1--num-clients 2 --num-rounds 1\n",
      "INFO - <ipython-input-3-b2fad49b0164> - 9 - 2021-11-29 13:04:24,534 - Executing command: python gies_experiment.py --obs-samples-size 5000 --int-samples-size 40--num-vars 20 --graph-type bidiag --edge-prob 0.0 --seed 2--num-clients 2 --num-rounds 1\n",
      "INFO - <ipython-input-3-b2fad49b0164> - 9 - 2021-11-29 13:04:26,700 - Executing command: python gies_experiment.py --obs-samples-size 5000 --int-samples-size 40--num-vars 20 --graph-type bidiag --edge-prob 0.0 --seed 3--num-clients 2 --num-rounds 1\n",
      "INFO - <ipython-input-3-b2fad49b0164> - 9 - 2021-11-29 13:04:29,025 - Executing command: python gies_experiment.py --obs-samples-size 5000 --int-samples-size 40--num-vars 20 --graph-type bidiag --edge-prob 0.0 --seed 4--num-clients 2 --num-rounds 1\n"
     ]
    }
   ],
   "source": [
    "edge_prob = 0.0\n",
    "\n",
    "for method in methods: \n",
    "    for graph_type in graph_types:\n",
    "        for seed in range(num_seeds):\n",
    "            command = f'python {method} --obs-samples-size {obs_data_size} --int-samples-size {int_data_size}' \\\n",
    "                      f'--num-vars {num_vars} --graph-type {graph_type} --edge-prob {edge_prob} --seed {seed}' \\\n",
    "                      f'--num-clients {num_clients} --num-rounds {num_rounds}'\n",
    "            logger.info(f'Executing command: {command}')\n",
    "\n",
    "            os.system(command)\n"
   ]
  },
  {
   "cell_type": "markdown",
   "metadata": {},
   "source": [
    "### Random graphs"
   ]
  },
  {
   "cell_type": "code",
   "execution_count": null,
   "metadata": {},
   "outputs": [],
   "source": [
    "graph_type = \"random\"\n",
    "for edge_prob in edge_probs:\n",
    "    command = f'python {method} --obs-samples-size {obs_data_size} --int-samples-size {int_data_size}' \\\n",
    "            f'--num-vars {num_vars} --graph-type {graph_type} --edge-prob {edge_prob} --seed {seed}' \\\n",
    "            f'--num-clients {num_clients} --num-rounds {num_rounds}'"
   ]
  }
 ],
 "metadata": {
  "kernelspec": {
   "display_name": "Python 3 (ipykernel)",
   "language": "python",
   "name": "python3"
  },
  "language_info": {
   "codemirror_mode": {
    "name": "ipython",
    "version": 3
   },
   "file_extension": ".py",
   "mimetype": "text/x-python",
   "name": "python",
   "nbconvert_exporter": "python",
   "pygments_lexer": "ipython3",
   "version": "3.8.10"
  }
 },
 "nbformat": 4,
 "nbformat_minor": 2
}
