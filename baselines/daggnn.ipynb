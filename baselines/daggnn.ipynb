{
 "cells": [
  {
   "cell_type": "code",
   "execution_count": 1,
   "metadata": {},
   "outputs": [],
   "source": [
    "import numpy as np\n",
    "import matplotlib.pyplot as plt\n",
    "\n",
    "import sys\n",
    "sys.path.append(\"../federated\")\n",
    "from utils import calculate_metrics"
   ]
  },
  {
   "cell_type": "markdown",
   "metadata": {},
   "source": [
    "#### Dataset generation"
   ]
  },
  {
   "cell_type": "code",
   "execution_count": 3,
   "metadata": {},
   "outputs": [
    {
     "name": "stdout",
     "output_type": "stream",
     "text": [
      "Shape of dataset: (5000, 20)\n",
      "Adjacency matrix: [[ 0.          0.          0.          0.          0.          0.\n",
      "   0.          0.          0.          0.          0.          0.\n",
      "   0.          0.          0.          0.          0.          0.\n",
      "   0.          0.        ]\n",
      " [ 0.          0.          0.          0.          0.          0.\n",
      "   0.          0.          0.          0.          0.          0.\n",
      "   0.          0.          0.          0.          0.          0.\n",
      "   0.          0.        ]\n",
      " [ 0.         -1.99300503  0.         -1.29893405  0.          0.\n",
      "   0.          0.          0.          0.          0.          0.\n",
      "   0.          0.          0.          0.          0.         -0.5976917\n",
      "   0.          0.        ]\n",
      " [ 0.          0.          0.          0.          0.          0.\n",
      "   0.          0.          0.          0.          0.          0.\n",
      "   0.          0.          0.          0.          0.          0.\n",
      "   0.          0.        ]\n",
      " [ 0.          0.          0.          0.          0.          0.\n",
      "   0.          0.          0.          0.          0.          0.\n",
      "   0.          0.          0.          0.          0.          0.\n",
      "   0.          0.        ]\n",
      " [ 0.          0.          0.          1.22337111  0.          0.\n",
      "   0.          0.          0.          0.          0.          0.\n",
      "   0.          0.          0.          0.          0.          0.\n",
      "   0.         -1.06233261]\n",
      " [ 0.          0.          0.          0.          0.          0.\n",
      "   0.          0.          0.          0.          0.          0.\n",
      "   0.          0.          0.          0.         -1.33085074  0.\n",
      "   0.          0.        ]\n",
      " [ 0.          0.          0.          0.          0.          0.\n",
      "   0.          0.          0.          0.          0.          0.\n",
      "   0.          0.          0.          0.          0.          0.\n",
      "   0.          0.        ]\n",
      " [ 0.          0.          0.          0.          0.          0.\n",
      "   0.          0.          0.          0.          0.          0.\n",
      "   0.          0.          0.          0.60869733  0.          0.\n",
      "   0.          0.        ]\n",
      " [ 0.          1.34071927  0.          0.          0.          0.\n",
      "   0.          0.          0.          0.          0.          0.\n",
      "   0.          0.          0.          0.75715528  0.          0.\n",
      "   0.          0.        ]\n",
      " [ 0.          1.30626954  0.          0.          0.          0.\n",
      "   0.          0.          0.          0.          0.          0.\n",
      "   0.          0.          0.          0.          0.          0.\n",
      "   0.          0.        ]\n",
      " [ 0.          0.          0.          0.          0.          0.\n",
      "   0.          0.          0.         -1.16741096  0.          0.\n",
      "   0.          0.          0.          0.          0.          0.\n",
      "   0.          0.        ]\n",
      " [ 0.          0.          0.          0.          0.          0.\n",
      "   0.          0.          0.          0.          0.          0.\n",
      "   0.          0.          0.          0.         -1.54130264 -0.6696193\n",
      "   0.         -1.22717501]\n",
      " [ 0.          0.          0.          0.          0.          0.\n",
      "   0.          0.          0.          0.          0.          0.\n",
      "  -0.67025077  0.          0.          0.          0.          0.\n",
      "   0.          0.        ]\n",
      " [ 0.         -1.84698853  0.          0.          0.          0.\n",
      "   0.          0.          0.87930798  0.99540292  0.          0.\n",
      "   0.          0.          0.          0.          0.          0.\n",
      "   0.          0.        ]\n",
      " [ 0.          0.          0.          0.          0.          0.\n",
      "   0.          0.          0.          0.          0.          0.\n",
      "   0.          0.          0.          0.          0.          0.\n",
      "   0.          0.        ]\n",
      " [ 0.          0.          0.          0.          0.          0.\n",
      "   0.          0.          0.95667024  0.          0.          0.\n",
      "   0.          0.          0.          0.          0.          0.\n",
      "   0.          0.        ]\n",
      " [ 0.          0.          0.          0.          0.          0.\n",
      "   0.          0.          0.          0.          0.          0.\n",
      "   0.          0.          0.          0.          0.          0.\n",
      "   0.          0.        ]\n",
      " [ 0.          0.          0.          0.          0.          0.\n",
      "   0.          0.          0.          1.56054763  0.          0.\n",
      "   0.          0.          0.          0.          0.          0.\n",
      "   0.          0.        ]\n",
      " [ 0.          0.          0.          0.          0.          0.\n",
      "   0.          0.          0.          0.          0.          0.\n",
      "   0.          0.          0.          0.          0.          0.\n",
      "   0.          0.        ]]\n"
     ]
    }
   ],
   "source": [
    "n, d, s0, graph_type, sem_type = 5000, 20, 20, 'ER', 'gauss'\n",
    "\n",
    "adj_mat_true = simulate_parameter(simulate_dag(d, s0, graph_type))\n",
    "\n",
    "dataset = simulate_linear_sem(adj_mat_true, n, sem_type)\n",
    "print(f'Shape of dataset: {dataset.shape}')\n",
    "print(f'Adjacency matrix: {adj_mat_true}')"
   ]
  },
  {
   "cell_type": "markdown",
   "metadata": {},
   "source": [
    "#### Without belief aggregation"
   ]
  },
  {
   "cell_type": "code",
   "execution_count": 4,
   "metadata": {},
   "outputs": [
    {
     "name": "stdout",
     "output_type": "stream",
     "text": [
      "> 0 SHD = 20\n",
      "> 1 SHD = 7\n",
      "> 2 SHD = 2\n",
      "> 3 SHD = 2\n",
      "> 4 SHD = 0\n",
      "> 5 SHD = 0\n",
      "> 6 SHD = 0\n",
      "> 7 SHD = 0\n",
      "> 8 SHD = 0\n",
      "> 9 SHD = 0\n",
      "> 10 SHD = 0\n",
      "> 11 SHD = 0\n",
      "> 12 SHD = 0\n"
     ]
    }
   ],
   "source": [
    "last_w_est = notears_linear(dataset, lambda1=0.1, loss_type='l2', ground_truth=adj_mat_true)"
   ]
  },
  {
   "cell_type": "markdown",
   "metadata": {},
   "source": [
    "#### With belief aggregation"
   ]
  },
  {
   "cell_type": "code",
   "execution_count": 5,
   "metadata": {},
   "outputs": [
    {
     "name": "stdout",
     "output_type": "stream",
     "text": [
      "> 0 SHD = 20\n",
      "> 1 SHD = 7\n",
      "> 2 SHD = 2\n",
      "> 3 SHD = 2\n",
      "> 4 SHD = 0\n",
      "> 5 SHD = 0\n",
      "> 6 SHD = 3\n",
      "> 7 SHD = 0\n",
      "> 8 SHD = 1\n",
      "> 9 SHD = 5\n",
      "> 10 SHD = 7\n"
     ]
    }
   ],
   "source": [
    "prior = notears_linear_fed(dataset, W_prior=np.ones(800), lambda1=0.1, loss_type='l2', ground_truth=adj_mat_true)"
   ]
  },
  {
   "cell_type": "code",
   "execution_count": 6,
   "metadata": {},
   "outputs": [
    {
     "name": "stdout",
     "output_type": "stream",
     "text": [
      "> 0 SHD = 20\n",
      "> 1 SHD = 7\n",
      "> 2 SHD = 2\n",
      "> 3 SHD = 2\n",
      "> 4 SHD = 0\n",
      "> 5 SHD = 0\n",
      "> 6 SHD = 6\n",
      "> 7 SHD = 6\n",
      "> 8 SHD = 5\n",
      "> 9 SHD = 6\n",
      "> 10 SHD = 14\n"
     ]
    }
   ],
   "source": [
    "prior = notears_linear_fed(dataset, W_prior=np.zeros(800), lambda1=0.1, loss_type='l2', ground_truth=adj_mat_true)"
   ]
  },
  {
   "cell_type": "markdown",
   "metadata": {},
   "source": [
    "#### Evaluation"
   ]
  },
  {
   "cell_type": "code",
   "execution_count": null,
   "metadata": {},
   "outputs": [],
   "source": [
    "calculate_metrics(adj_mat_pred_nobelief, adj_mat_true)"
   ]
  },
  {
   "cell_type": "code",
   "execution_count": null,
   "metadata": {},
   "outputs": [],
   "source": [
    "calculate_metrics(adj_mat_pred_belief, adj_mat_true)"
   ]
  },
  {
   "cell_type": "code",
   "execution_count": null,
   "metadata": {},
   "outputs": [],
   "source": [
    "plt.matshow(adj_mat_pred_nobelief)\n",
    "plt.matshow(adj_mat_pred_belief)"
   ]
  }
 ],
 "metadata": {
  "kernelspec": {
   "display_name": "Python 3 (ipykernel)",
   "language": "python",
   "name": "python3"
  },
  "language_info": {
   "codemirror_mode": {
    "name": "ipython",
    "version": 3
   },
   "file_extension": ".py",
   "mimetype": "text/x-python",
   "name": "python",
   "nbconvert_exporter": "python",
   "pygments_lexer": "ipython3",
   "version": "3.8.10"
  }
 },
 "nbformat": 4,
 "nbformat_minor": 2
}
